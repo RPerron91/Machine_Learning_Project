{
 "cells": [
  {
   "cell_type": "code",
   "execution_count": 1,
   "metadata": {},
   "outputs": [],
   "source": [
    "import pandas as pd"
   ]
  },
  {
   "cell_type": "code",
   "execution_count": 2,
   "metadata": {},
   "outputs": [
    {
     "data": {
      "text/html": [
       "<div>\n",
       "<style scoped>\n",
       "    .dataframe tbody tr th:only-of-type {\n",
       "        vertical-align: middle;\n",
       "    }\n",
       "\n",
       "    .dataframe tbody tr th {\n",
       "        vertical-align: top;\n",
       "    }\n",
       "\n",
       "    .dataframe thead th {\n",
       "        text-align: right;\n",
       "    }\n",
       "</style>\n",
       "<table border=\"1\" class=\"dataframe\">\n",
       "  <thead>\n",
       "    <tr style=\"text-align: right;\">\n",
       "      <th></th>\n",
       "      <th>date</th>\n",
       "      <th>open</th>\n",
       "      <th>high</th>\n",
       "      <th>low</th>\n",
       "      <th>close</th>\n",
       "      <th>volume</th>\n",
       "      <th>% daily gain/loss</th>\n",
       "      <th>avg daily price</th>\n",
       "      <th>usd traded</th>\n",
       "    </tr>\n",
       "  </thead>\n",
       "  <tbody>\n",
       "    <tr>\n",
       "      <th>0</th>\n",
       "      <td>2017-02-10</td>\n",
       "      <td>987.431</td>\n",
       "      <td>1010.68</td>\n",
       "      <td>920.00</td>\n",
       "      <td>987.100</td>\n",
       "      <td>64033.664983</td>\n",
       "      <td>-0.033521</td>\n",
       "      <td>965.34</td>\n",
       "      <td>6.181426e+07</td>\n",
       "    </tr>\n",
       "    <tr>\n",
       "      <th>1</th>\n",
       "      <td>2017-02-11</td>\n",
       "      <td>995.490</td>\n",
       "      <td>1028.28</td>\n",
       "      <td>964.66</td>\n",
       "      <td>992.310</td>\n",
       "      <td>27810.748059</td>\n",
       "      <td>-0.319441</td>\n",
       "      <td>996.47</td>\n",
       "      <td>2.771258e+07</td>\n",
       "    </tr>\n",
       "    <tr>\n",
       "      <th>2</th>\n",
       "      <td>2017-02-12</td>\n",
       "      <td>992.310</td>\n",
       "      <td>1022.89</td>\n",
       "      <td>983.50</td>\n",
       "      <td>1000.730</td>\n",
       "      <td>13861.128046</td>\n",
       "      <td>0.848525</td>\n",
       "      <td>1003.20</td>\n",
       "      <td>1.390548e+07</td>\n",
       "    </tr>\n",
       "    <tr>\n",
       "      <th>3</th>\n",
       "      <td>2017-02-13</td>\n",
       "      <td>1001.590</td>\n",
       "      <td>1021.50</td>\n",
       "      <td>958.88</td>\n",
       "      <td>1000.360</td>\n",
       "      <td>28432.244497</td>\n",
       "      <td>-0.122805</td>\n",
       "      <td>990.19</td>\n",
       "      <td>2.815332e+07</td>\n",
       "    </tr>\n",
       "    <tr>\n",
       "      <th>4</th>\n",
       "      <td>2017-02-14</td>\n",
       "      <td>1000.740</td>\n",
       "      <td>1033.17</td>\n",
       "      <td>974.51</td>\n",
       "      <td>992.907</td>\n",
       "      <td>38062.882105</td>\n",
       "      <td>-0.782721</td>\n",
       "      <td>1003.84</td>\n",
       "      <td>3.820904e+07</td>\n",
       "    </tr>\n",
       "  </tbody>\n",
       "</table>\n",
       "</div>"
      ],
      "text/plain": [
       "         date      open     high     low     close        volume  \\\n",
       "0  2017-02-10   987.431  1010.68  920.00   987.100  64033.664983   \n",
       "1  2017-02-11   995.490  1028.28  964.66   992.310  27810.748059   \n",
       "2  2017-02-12   992.310  1022.89  983.50  1000.730  13861.128046   \n",
       "3  2017-02-13  1001.590  1021.50  958.88  1000.360  28432.244497   \n",
       "4  2017-02-14  1000.740  1033.17  974.51   992.907  38062.882105   \n",
       "\n",
       "   % daily gain/loss  avg daily price    usd traded  \n",
       "0          -0.033521           965.34  6.181426e+07  \n",
       "1          -0.319441           996.47  2.771258e+07  \n",
       "2           0.848525          1003.20  1.390548e+07  \n",
       "3          -0.122805           990.19  2.815332e+07  \n",
       "4          -0.782721          1003.84  3.820904e+07  "
      ]
     },
     "execution_count": 2,
     "metadata": {},
     "output_type": "execute_result"
    }
   ],
   "source": [
    "BTC_data = pd.read_csv('Data/Altcoins/BTC.csv')\n",
    "BTC_data.head()"
   ]
  },
  {
   "cell_type": "code",
   "execution_count": null,
   "metadata": {},
   "outputs": [],
   "source": []
  }
 ],
 "metadata": {
  "kernelspec": {
   "display_name": "Python 3",
   "language": "python",
   "name": "python3"
  },
  "language_info": {
   "codemirror_mode": {
    "name": "ipython",
    "version": 3
   },
   "file_extension": ".py",
   "mimetype": "text/x-python",
   "name": "python",
   "nbconvert_exporter": "python",
   "pygments_lexer": "ipython3",
   "version": "3.7.2"
  }
 },
 "nbformat": 4,
 "nbformat_minor": 2
}
